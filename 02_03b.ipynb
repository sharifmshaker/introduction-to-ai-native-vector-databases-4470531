{
 "cells": [
  {
   "cell_type": "markdown",
   "id": "07b82336",
   "metadata": {},
   "source": [
    "### Load the data"
   ]
  },
  {
   "cell_type": "code",
   "execution_count": 2,
   "id": "b1bf2f64-8eb4-49ca-b9e9-a35f95c7174d",
   "metadata": {},
   "outputs": [],
   "source": [
    "%config IPCompleter.greedy=True"
   ]
  },
  {
   "cell_type": "code",
   "execution_count": 3,
   "id": "44467843",
   "metadata": {},
   "outputs": [
    {
     "name": "stdout",
     "output_type": "stream",
     "text": [
      "<class 'list'> 10\n",
      "{\n",
      "  \"Category\": \"SCIENCE\",\n",
      "  \"Question\": \"This organ removes excess glucose from the blood & stores it as glycogen\",\n",
      "  \"Answer\": \"Liver\"\n",
      "}\n"
     ]
    }
   ],
   "source": [
    "import requests\n",
    "import json\n",
    "\n",
    "# Download the data\n",
    "resp = requests.get('https://raw.githubusercontent.com/weaviate-tutorials/quickstart/main/data/jeopardy_tiny.json')\n",
    "data = json.loads(resp.text)  # Load data\n",
    "\n",
    "# Parse the JSON and preview it\n",
    "print(type(data), len(data))\n",
    "print(json.dumps(data[0], indent=2))"
   ]
  },
  {
   "cell_type": "code",
   "execution_count": 4,
   "id": "94dbf819",
   "metadata": {},
   "outputs": [],
   "source": [
    "def json_print(data):\n",
    "    print(json.dumps(data, indent=2))"
   ]
  },
  {
   "cell_type": "code",
   "execution_count": 8,
   "id": "0e776024",
   "metadata": {},
   "outputs": [
    {
     "name": "stdout",
     "output_type": "stream",
     "text": [
      "[\n",
      "  {\n",
      "    \"Category\": \"SCIENCE\",\n",
      "    \"Question\": \"This organ removes excess glucose from the blood & stores it as glycogen\",\n",
      "    \"Answer\": \"Liver\"\n",
      "  },\n",
      "  {\n",
      "    \"Category\": \"ANIMALS\",\n",
      "    \"Question\": \"It's the only living mammal in the order Proboseidea\",\n",
      "    \"Answer\": \"Elephant\"\n",
      "  },\n",
      "  {\n",
      "    \"Category\": \"ANIMALS\",\n",
      "    \"Question\": \"The gavial looks very much like a crocodile except for this bodily feature\",\n",
      "    \"Answer\": \"the nose or snout\"\n",
      "  },\n",
      "  {\n",
      "    \"Category\": \"ANIMALS\",\n",
      "    \"Question\": \"Weighing around a ton, the eland is the largest species of this animal in Africa\",\n",
      "    \"Answer\": \"Antelope\"\n",
      "  },\n",
      "  {\n",
      "    \"Category\": \"ANIMALS\",\n",
      "    \"Question\": \"Heaviest of all poisonous snakes is this North American rattlesnake\",\n",
      "    \"Answer\": \"the diamondback rattler\"\n",
      "  },\n",
      "  {\n",
      "    \"Category\": \"SCIENCE\",\n",
      "    \"Question\": \"2000 news: the Gunnison sage grouse isn't just another northern sage grouse, but a new one of this classification\",\n",
      "    \"Answer\": \"species\"\n",
      "  },\n",
      "  {\n",
      "    \"Category\": \"SCIENCE\",\n",
      "    \"Question\": \"A metal that is ductile can be pulled into this while cold & under pressure\",\n",
      "    \"Answer\": \"wire\"\n",
      "  },\n",
      "  {\n",
      "    \"Category\": \"SCIENCE\",\n",
      "    \"Question\": \"In 1953 Watson & Crick built a model of the molecular structure of this, the gene-carrying substance\",\n",
      "    \"Answer\": \"DNA\"\n",
      "  },\n",
      "  {\n",
      "    \"Category\": \"SCIENCE\",\n",
      "    \"Question\": \"Changes in the tropospheric layer of this are what gives us weather\",\n",
      "    \"Answer\": \"the atmosphere\"\n",
      "  },\n",
      "  {\n",
      "    \"Category\": \"SCIENCE\",\n",
      "    \"Question\": \"In 70-degree air, a plane traveling at about 1,130 feet per second breaks it\",\n",
      "    \"Answer\": \"Sound barrier\"\n",
      "  }\n",
      "]\n"
     ]
    }
   ],
   "source": [
    "#Print out the rest of the data\n",
    "\n",
    "json_print(data)"
   ]
  },
  {
   "cell_type": "markdown",
   "id": "9f37e708",
   "metadata": {},
   "source": [
    "### Now we're going to initialize Weaviate - our vector DB"
   ]
  },
  {
   "cell_type": "code",
   "execution_count": 42,
   "id": "0a95e321-778a-492e-a2c3-e746bf1ff008",
   "metadata": {},
   "outputs": [],
   "source": [
    "import weaviate\n",
    "from weaviate.classes.config import Property, DataType\n",
    "from weaviate.embedded import EmbeddedOptions\n",
    "import weaviate.classes.config as wvcc\n",
    "import os"
   ]
  },
  {
   "cell_type": "code",
   "execution_count": 43,
   "id": "43bc0c69",
   "metadata": {},
   "outputs": [
    {
     "ename": "WeaviateStartUpError",
     "evalue": "Embedded DB did not start because processes are already listening on ports http:8079 and grpc:50050use weaviate.connect_to_local(port=8079, grpc_port=50050) to connect to the existing instance",
     "output_type": "error",
     "traceback": [
      "\u001b[0;31m---------------------------------------------------------------------------\u001b[0m",
      "\u001b[0;31mWeaviateStartUpError\u001b[0m                      Traceback (most recent call last)",
      "Cell \u001b[0;32mIn[43], line 3\u001b[0m\n\u001b[1;32m      1\u001b[0m \u001b[38;5;66;03m#Start up an instance of Weaviate\u001b[39;00m\n\u001b[0;32m----> 3\u001b[0m client \u001b[38;5;241m=\u001b[39m weaviate\u001b[38;5;241m.\u001b[39mconnect_to_embedded(\u001b[38;5;66;03m#embedded_options=EmbeddedOptions(),\u001b[39;00m\n\u001b[1;32m      4\u001b[0m                         headers\u001b[38;5;241m=\u001b[39m{\n\u001b[1;32m      5\u001b[0m                             \u001b[38;5;124m\"\u001b[39m\u001b[38;5;124mX-OpenAI-Api-Key\u001b[39m\u001b[38;5;124m\"\u001b[39m: os\u001b[38;5;241m.\u001b[39menviron[\u001b[38;5;124m\"\u001b[39m\u001b[38;5;124mOPENAI_API_KEY\u001b[39m\u001b[38;5;124m\"\u001b[39m]\n\u001b[1;32m      6\u001b[0m                         })\n",
      "File \u001b[0;32m/opt/anaconda3/lib/python3.11/site-packages/weaviate/connect/helpers.py:243\u001b[0m, in \u001b[0;36mconnect_to_embedded\u001b[0;34m(hostname, port, grpc_port, headers, additional_config, version, persistence_data_path, binary_path, environment_variables)\u001b[0m\n\u001b[1;32m    237\u001b[0m     options\u001b[38;5;241m.\u001b[39mbinary_path \u001b[38;5;241m=\u001b[39m binary_path\n\u001b[1;32m    238\u001b[0m client \u001b[38;5;241m=\u001b[39m WeaviateClient(\n\u001b[1;32m    239\u001b[0m     embedded_options\u001b[38;5;241m=\u001b[39moptions,\n\u001b[1;32m    240\u001b[0m     additional_headers\u001b[38;5;241m=\u001b[39mheaders,\n\u001b[1;32m    241\u001b[0m     additional_config\u001b[38;5;241m=\u001b[39madditional_config,\n\u001b[1;32m    242\u001b[0m )\n\u001b[0;32m--> 243\u001b[0m \u001b[38;5;28;01mreturn\u001b[39;00m __connect(client)\n",
      "File \u001b[0;32m/opt/anaconda3/lib/python3.11/site-packages/weaviate/connect/helpers.py:345\u001b[0m, in \u001b[0;36m__connect\u001b[0;34m(client)\u001b[0m\n\u001b[1;32m    343\u001b[0m \u001b[38;5;28;01mexcept\u001b[39;00m \u001b[38;5;167;01mException\u001b[39;00m \u001b[38;5;28;01mas\u001b[39;00m e:\n\u001b[1;32m    344\u001b[0m     client\u001b[38;5;241m.\u001b[39mclose()\n\u001b[0;32m--> 345\u001b[0m     \u001b[38;5;28;01mraise\u001b[39;00m e\n",
      "File \u001b[0;32m/opt/anaconda3/lib/python3.11/site-packages/weaviate/connect/helpers.py:341\u001b[0m, in \u001b[0;36m__connect\u001b[0;34m(client)\u001b[0m\n\u001b[1;32m    339\u001b[0m \u001b[38;5;28;01mdef\u001b[39;00m \u001b[38;5;21m__connect\u001b[39m(client: WeaviateClient) \u001b[38;5;241m-\u001b[39m\u001b[38;5;241m>\u001b[39m WeaviateClient:\n\u001b[1;32m    340\u001b[0m     \u001b[38;5;28;01mtry\u001b[39;00m:\n\u001b[0;32m--> 341\u001b[0m         client\u001b[38;5;241m.\u001b[39mconnect()\n\u001b[1;32m    342\u001b[0m         \u001b[38;5;28;01mreturn\u001b[39;00m client\n\u001b[1;32m    343\u001b[0m     \u001b[38;5;28;01mexcept\u001b[39;00m \u001b[38;5;167;01mException\u001b[39;00m \u001b[38;5;28;01mas\u001b[39;00m e:\n",
      "File \u001b[0;32m/opt/anaconda3/lib/python3.11/site-packages/weaviate/client.py:282\u001b[0m, in \u001b[0;36mWeaviateClient.connect\u001b[0;34m(self)\u001b[0m\n\u001b[1;32m    280\u001b[0m \u001b[38;5;28;01mif\u001b[39;00m \u001b[38;5;28mself\u001b[39m\u001b[38;5;241m.\u001b[39m_connection\u001b[38;5;241m.\u001b[39mis_connected():\n\u001b[1;32m    281\u001b[0m     \u001b[38;5;28;01mreturn\u001b[39;00m\n\u001b[0;32m--> 282\u001b[0m \u001b[38;5;28mself\u001b[39m\u001b[38;5;241m.\u001b[39m_connection\u001b[38;5;241m.\u001b[39mconnect(\u001b[38;5;28mself\u001b[39m\u001b[38;5;241m.\u001b[39m__skip_init_checks)\n",
      "File \u001b[0;32m/opt/anaconda3/lib/python3.11/site-packages/weaviate/connect/v4.py:655\u001b[0m, in \u001b[0;36mConnectionV4.connect\u001b[0;34m(self, skip_init_checks)\u001b[0m\n\u001b[1;32m    654\u001b[0m \u001b[38;5;28;01mdef\u001b[39;00m \u001b[38;5;21mconnect\u001b[39m(\u001b[38;5;28mself\u001b[39m, skip_init_checks: \u001b[38;5;28mbool\u001b[39m) \u001b[38;5;241m-\u001b[39m\u001b[38;5;241m>\u001b[39m \u001b[38;5;28;01mNone\u001b[39;00m:\n\u001b[0;32m--> 655\u001b[0m     \u001b[38;5;28msuper\u001b[39m()\u001b[38;5;241m.\u001b[39mconnect(skip_init_checks)\n\u001b[1;32m    656\u001b[0m     \u001b[38;5;66;03m# create GRPC channel. If Weaviate does not support GRPC then error now.\u001b[39;00m\n\u001b[1;32m    657\u001b[0m     \u001b[38;5;28mself\u001b[39m\u001b[38;5;241m.\u001b[39m_grpc_channel \u001b[38;5;241m=\u001b[39m \u001b[38;5;28mself\u001b[39m\u001b[38;5;241m.\u001b[39m_connection_params\u001b[38;5;241m.\u001b[39m_grpc_channel(\n\u001b[1;32m    658\u001b[0m         async_channel\u001b[38;5;241m=\u001b[39m\u001b[38;5;28;01mFalse\u001b[39;00m, proxies\u001b[38;5;241m=\u001b[39m\u001b[38;5;28mself\u001b[39m\u001b[38;5;241m.\u001b[39m_proxies\n\u001b[1;32m    659\u001b[0m     )\n",
      "File \u001b[0;32m/opt/anaconda3/lib/python3.11/site-packages/weaviate/connect/v4.py:135\u001b[0m, in \u001b[0;36m_Connection.connect\u001b[0;34m(self, skip_init_checks)\u001b[0m\n\u001b[1;32m    133\u001b[0m \u001b[38;5;28;01mdef\u001b[39;00m \u001b[38;5;21mconnect\u001b[39m(\u001b[38;5;28mself\u001b[39m, skip_init_checks: \u001b[38;5;28mbool\u001b[39m) \u001b[38;5;241m-\u001b[39m\u001b[38;5;241m>\u001b[39m \u001b[38;5;28;01mNone\u001b[39;00m:\n\u001b[1;32m    134\u001b[0m     \u001b[38;5;28;01mif\u001b[39;00m \u001b[38;5;28mself\u001b[39m\u001b[38;5;241m.\u001b[39membedded_db \u001b[38;5;129;01mis\u001b[39;00m \u001b[38;5;129;01mnot\u001b[39;00m \u001b[38;5;28;01mNone\u001b[39;00m:\n\u001b[0;32m--> 135\u001b[0m         \u001b[38;5;28mself\u001b[39m\u001b[38;5;241m.\u001b[39membedded_db\u001b[38;5;241m.\u001b[39mstart()\n\u001b[1;32m    136\u001b[0m     \u001b[38;5;28mself\u001b[39m\u001b[38;5;241m.\u001b[39m_create_clients(\u001b[38;5;28mself\u001b[39m\u001b[38;5;241m.\u001b[39m_auth, skip_init_checks)\n\u001b[1;32m    137\u001b[0m     \u001b[38;5;28mself\u001b[39m\u001b[38;5;241m.\u001b[39m__connected \u001b[38;5;241m=\u001b[39m \u001b[38;5;28;01mTrue\u001b[39;00m\n",
      "File \u001b[0;32m/opt/anaconda3/lib/python3.11/site-packages/weaviate/embedded.py:294\u001b[0m, in \u001b[0;36mEmbeddedV4.start\u001b[0;34m(self)\u001b[0m\n\u001b[1;32m    292\u001b[0m up \u001b[38;5;241m=\u001b[39m \u001b[38;5;28mself\u001b[39m\u001b[38;5;241m.\u001b[39m__is_listening()\n\u001b[1;32m    293\u001b[0m \u001b[38;5;28;01mif\u001b[39;00m up[\u001b[38;5;241m0\u001b[39m] \u001b[38;5;129;01mand\u001b[39;00m up[\u001b[38;5;241m1\u001b[39m]:\n\u001b[0;32m--> 294\u001b[0m     \u001b[38;5;28;01mraise\u001b[39;00m WeaviateStartUpError(\n\u001b[1;32m    295\u001b[0m         \u001b[38;5;124mf\u001b[39m\u001b[38;5;124m\"\u001b[39m\u001b[38;5;124mEmbedded DB did not start because processes are already listening on ports http:\u001b[39m\u001b[38;5;132;01m{\u001b[39;00m\u001b[38;5;28mself\u001b[39m\u001b[38;5;241m.\u001b[39moptions\u001b[38;5;241m.\u001b[39mport\u001b[38;5;132;01m}\u001b[39;00m\u001b[38;5;124m and grpc:\u001b[39m\u001b[38;5;132;01m{\u001b[39;00m\u001b[38;5;28mself\u001b[39m\u001b[38;5;241m.\u001b[39mgrpc_port\u001b[38;5;132;01m}\u001b[39;00m\u001b[38;5;124m\"\u001b[39m\n\u001b[1;32m    296\u001b[0m         \u001b[38;5;124mf\u001b[39m\u001b[38;5;124m\"\u001b[39m\u001b[38;5;124muse weaviate.connect_to_local(port=\u001b[39m\u001b[38;5;132;01m{\u001b[39;00m\u001b[38;5;28mself\u001b[39m\u001b[38;5;241m.\u001b[39moptions\u001b[38;5;241m.\u001b[39mport\u001b[38;5;132;01m}\u001b[39;00m\u001b[38;5;124m, grpc_port=\u001b[39m\u001b[38;5;132;01m{\u001b[39;00m\u001b[38;5;28mself\u001b[39m\u001b[38;5;241m.\u001b[39moptions\u001b[38;5;241m.\u001b[39mgrpc_port\u001b[38;5;132;01m}\u001b[39;00m\u001b[38;5;124m) to connect to the existing instance\u001b[39m\u001b[38;5;124m\"\u001b[39m\n\u001b[1;32m    297\u001b[0m     )\n\u001b[1;32m    298\u001b[0m \u001b[38;5;28;01melif\u001b[39;00m up[\u001b[38;5;241m0\u001b[39m] \u001b[38;5;129;01mand\u001b[39;00m \u001b[38;5;129;01mnot\u001b[39;00m up[\u001b[38;5;241m1\u001b[39m]:\n\u001b[1;32m    299\u001b[0m     \u001b[38;5;28;01mraise\u001b[39;00m WeaviateStartUpError(\n\u001b[1;32m    300\u001b[0m         \u001b[38;5;124mf\u001b[39m\u001b[38;5;124m\"\u001b[39m\u001b[38;5;124mEmbedded DB did not start because a process is already listening on port http:\u001b[39m\u001b[38;5;132;01m{\u001b[39;00m\u001b[38;5;28mself\u001b[39m\u001b[38;5;241m.\u001b[39moptions\u001b[38;5;241m.\u001b[39mport\u001b[38;5;132;01m}\u001b[39;00m\u001b[38;5;124m\"\u001b[39m\n\u001b[1;32m    301\u001b[0m         \u001b[38;5;124m\"\u001b[39m\u001b[38;5;124mlook for another free port for the HTTP connection to you embedded instance\u001b[39m\u001b[38;5;124m\"\u001b[39m\n\u001b[1;32m    302\u001b[0m     )\n",
      "\u001b[0;31mWeaviateStartUpError\u001b[0m: Embedded DB did not start because processes are already listening on ports http:8079 and grpc:50050use weaviate.connect_to_local(port=8079, grpc_port=50050) to connect to the existing instance"
     ]
    }
   ],
   "source": [
    "#Start up an instance of Weaviate\n",
    "\n",
    "client = weaviate.connect_to_embedded(#embedded_options=EmbeddedOptions(),\n",
    "                        headers={\n",
    "                            \"X-OpenAI-Api-Key\": os.environ[\"OPENAI_API_KEY\"]\n",
    "                        })\n"
   ]
  },
  {
   "cell_type": "code",
   "execution_count": 44,
   "id": "153abe7d",
   "metadata": {},
   "outputs": [
    {
     "name": "stdout",
     "output_type": "stream",
     "text": [
      "{\n",
      "  \"hostname\": \"http://127.0.0.1:8079\",\n",
      "  \"modules\": {\n",
      "    \"generative-openai\": {\n",
      "      \"documentationHref\": \"https://platform.openai.com/docs/api-reference/completions\",\n",
      "      \"name\": \"Generative Search - OpenAI\"\n",
      "    },\n",
      "    \"qna-openai\": {\n",
      "      \"documentationHref\": \"https://platform.openai.com/docs/api-reference/completions\",\n",
      "      \"name\": \"OpenAI Question & Answering Module\"\n",
      "    },\n",
      "    \"ref2vec-centroid\": {},\n",
      "    \"reranker-cohere\": {\n",
      "      \"documentationHref\": \"https://txt.cohere.com/rerank/\",\n",
      "      \"name\": \"Reranker - Cohere\"\n",
      "    },\n",
      "    \"text2vec-cohere\": {\n",
      "      \"documentationHref\": \"https://docs.cohere.ai/embedding-wiki/\",\n",
      "      \"name\": \"Cohere Module\"\n",
      "    },\n",
      "    \"text2vec-huggingface\": {\n",
      "      \"documentationHref\": \"https://huggingface.co/docs/api-inference/detailed_parameters#feature-extraction-task\",\n",
      "      \"name\": \"Hugging Face Module\"\n",
      "    },\n",
      "    \"text2vec-openai\": {\n",
      "      \"documentationHref\": \"https://platform.openai.com/docs/guides/embeddings/what-are-embeddings\",\n",
      "      \"name\": \"OpenAI Module\"\n",
      "    }\n",
      "  },\n",
      "  \"version\": \"1.23.7\"\n",
      "}\n"
     ]
    }
   ],
   "source": [
    "#Check that weaviate is up and running\n",
    "\n",
    "json_print(client.get_meta())"
   ]
  },
  {
   "cell_type": "code",
   "execution_count": 45,
   "id": "b214fce9",
   "metadata": {},
   "outputs": [
    {
     "name": "stdout",
     "output_type": "stream",
     "text": [
      "deleting Questions\n"
     ]
    }
   ],
   "source": [
    "#Delete the schema if it alredy exists\n",
    "if client.collections.exists(\"Question\"):\n",
    "    print(\"deleting Questions\")\n",
    "    client.collections.delete(\"Question\")\n",
    "else:\n",
    "    print(\"no comprendo\")\n"
   ]
  },
  {
   "cell_type": "code",
   "execution_count": 46,
   "id": "c5ad3bdb",
   "metadata": {},
   "outputs": [
    {
     "name": "stdout",
     "output_type": "stream",
     "text": [
      "Class schema has been successfully created.\n"
     ]
    },
    {
     "name": "stderr",
     "output_type": "stream",
     "text": [
      "{\"level\":\"info\",\"msg\":\"Created shard question_zii33D9fEfYp in 2.905708ms\",\"time\":\"2024-03-21T16:23:27-05:00\"}\n",
      "{\"action\":\"hnsw_vector_cache_prefill\",\"count\":1000,\"index_id\":\"main\",\"level\":\"info\",\"limit\":1000000000000,\"msg\":\"prefilled vector cache\",\"time\":\"2024-03-21T16:23:27-05:00\",\"took\":46458}\n"
     ]
    }
   ],
   "source": [
    "# Define the class schema\n",
    "\n",
    "class_schema = {\n",
    "    \"class\": \"Question\",\n",
    "    \"properties\": {\n",
    "        # Define properties here if needed\n",
    "    },\n",
    "    \"vectorizer\": \"text2vec-openai\"  # Specify the vectorizer\n",
    "}\n",
    "\n",
    "try:\n",
    "    # Create the class schema in Weaviate\n",
    "    collection = client.collections.create(\n",
    "        name=\"Question\",\n",
    "        vectorizer_config=wvcc.Configure.Vectorizer.text2vec_openai(),\n",
    "        properties=[\n",
    "            Property(name=\"answer\", data_type=DataType.TEXT),\n",
    "            Property(name=\"question\", data_type=DataType.TEXT),\n",
    "            Property(name=\"category\", data_type=DataType.TEXT),\n",
    "        ]\n",
    "    )\n",
    "\n",
    "    print(\"Class schema has been successfully created.\")\n",
    "except Exception as e:\n",
    "    print(f\"Failed to create class schema: {e}\")"
   ]
  },
  {
   "cell_type": "code",
   "execution_count": 47,
   "id": "3ea81ea7",
   "metadata": {},
   "outputs": [
    {
     "name": "stdout",
     "output_type": "stream",
     "text": [
      "importing question: 1\n",
      "importing question: 2\n",
      "importing question: 3\n",
      "importing question: 4\n",
      "importing question: 5\n",
      "importing question: 6\n",
      "importing question: 7\n",
      "importing question: 8\n",
      "importing question: 9\n",
      "importing question: 10\n"
     ]
    }
   ],
   "source": [
    "with collection.batch.dynamic() as batch:\n",
    "    for i, d in enumerate(data):  # Batch import data\n",
    "        \n",
    "        print(f\"importing question: {i+1}\")\n",
    "            \n",
    "        #Specify the properties we want to import into Weviate\n",
    "        \n",
    "        data_obj = {\n",
    "            \"answer\": d[\"Answer\"],\n",
    "            \"question\": d[\"Question\"],\n",
    "            \"category\": d[\"Category\"],\n",
    "        }\n",
    "        \n",
    "        #Add data to Weaviate\n",
    "        \n",
    "        batch.add_object(properties=data_obj)"
   ]
  },
  {
   "cell_type": "code",
   "execution_count": 52,
   "id": "dab0b6da",
   "metadata": {},
   "outputs": [
    {
     "name": "stdout",
     "output_type": "stream",
     "text": [
      "10\n",
      "{}\n"
     ]
    }
   ],
   "source": [
    "#Check how many objects we've loaded into the database\n",
    "response = collection.aggregate.over_all(\n",
    "    total_count=True,\n",
    ")\n",
    "\n",
    "print(response.total_count)\n",
    "print(response.properties)\n",
    "\n"
   ]
  },
  {
   "cell_type": "code",
   "execution_count": 53,
   "id": "541e263e",
   "metadata": {},
   "outputs": [
    {
     "name": "stdout",
     "output_type": "stream",
     "text": [
      "{'question': 'Heaviest of all poisonous snakes is this North American rattlesnake', 'answer': 'the diamondback rattler'}\n",
      "{'question': 'Changes in the tropospheric layer of this are what gives us weather', 'answer': 'the atmosphere'}\n",
      "{'answer': 'Sound barrier', 'question': 'In 70-degree air, a plane traveling at about 1,130 feet per second breaks it'}\n"
     ]
    }
   ],
   "source": [
    "#Extract and show any 3 questions and answers\n",
    "\n",
    "response = collection.query.fetch_objects(\n",
    "        return_properties=[\"question\", \"answer\"],\n",
    "        limit=3\n",
    "    )\n",
    "\n",
    "for o in response.objects:\n",
    "    print(o.properties)  # Inspect returned objects"
   ]
  },
  {
   "cell_type": "code",
   "execution_count": null,
   "id": "e3b28a5f-30a0-438a-9503-8de80f179328",
   "metadata": {},
   "outputs": [],
   "source": []
  }
 ],
 "metadata": {
  "kernelspec": {
   "display_name": "Python 3 (ipykernel)",
   "language": "python",
   "name": "python3"
  },
  "language_info": {
   "codemirror_mode": {
    "name": "ipython",
    "version": 3
   },
   "file_extension": ".py",
   "mimetype": "text/x-python",
   "name": "python",
   "nbconvert_exporter": "python",
   "pygments_lexer": "ipython3",
   "version": "3.11.7"
  }
 },
 "nbformat": 4,
 "nbformat_minor": 5
}
