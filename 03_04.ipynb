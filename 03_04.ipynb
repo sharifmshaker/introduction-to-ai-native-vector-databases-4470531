{
 "cells": [
  {
   "cell_type": "markdown",
   "id": "e41427cf",
   "metadata": {},
   "source": [
    "https://drive.google.com/drive/folders/1HeTSIY5Xmd2vk2eAOlIjnSwlX45XciHv?usp=drive_link"
   ]
  },
  {
   "cell_type": "markdown",
   "id": "912058c4",
   "metadata": {},
   "source": [
    "Use the starter notebook and write code to help you: \n",
    "1. Specify an ML model that can understand both images and text into Weaviate\n",
    "2. Add the provided data to your vector database - feel free to use your own images for this aswell!\n",
    "3. Search the data with a text query\n",
    "4. Search the data with an image query."
   ]
  },
  {
   "cell_type": "code",
   "execution_count": null,
   "id": "610385fb",
   "metadata": {},
   "outputs": [],
   "source": [
    "import pickle, weaviate, json, os, IPython"
   ]
  },
  {
   "cell_type": "markdown",
   "id": "8d39dad7",
   "metadata": {},
   "source": [
    "### We first need to start a local instance of Weaviate using Docker.\n",
    "\n",
    "1. This can be done by opening up a terminal in the folder with the provided `docker-compose.yml` file in it and typing:\n",
    "```bash\n",
    "docker compose up\n",
    "```\n",
    "\n",
    "2. Later, in order to bring Weaviate down you can just go into this terminal window and type `Ctrl + C`"
   ]
  },
  {
   "cell_type": "code",
   "execution_count": null,
   "id": "372be9b5",
   "metadata": {},
   "outputs": [],
   "source": [
    "#Connect to locally hosted Weaviate and check if everything is ready\n",
    "\n",
    "#ADD CODE HERE"
   ]
  },
  {
   "cell_type": "markdown",
   "id": "5f41fc7d",
   "metadata": {},
   "source": [
    "### Q1: Specify an ML model that can understand both images and text into Weaviate"
   ]
  },
  {
   "cell_type": "code",
   "execution_count": null,
   "id": "63c48b0f",
   "metadata": {},
   "outputs": [],
   "source": [
    "#To do this we need to specify a schema in which we can specify the model to be used\n",
    "# aswell as the properties. \n",
    "\n",
    "class_obj = # ADD CODE HERE\n",
    "\n",
    "client.schema.create_class(class_obj)\n",
    "print(\"Schema class created\")"
   ]
  },
  {
   "cell_type": "markdown",
   "id": "6faec5b3",
   "metadata": {},
   "source": [
    "### Q2: Add the provided data to your vector database - feel free to use your own images for this aswell!"
   ]
  },
  {
   "cell_type": "code",
   "execution_count": null,
   "id": "bda39cf8",
   "metadata": {},
   "outputs": [],
   "source": [
    "# Here we will pass in a larger dataset into a folder called \"Images\"\n",
    "\n",
    "#If you'd like to add your own images to the vector database to search over\n",
    "# feel free to add them into this folder aswell!\n",
    "\n",
    "for img in os.listdir(\"Images/\"):\n",
    "    \n",
    "    # ADD CODE HERE\n",
    "    \n",
    "print(\"All images added!\")"
   ]
  },
  {
   "cell_type": "markdown",
   "id": "805aa799",
   "metadata": {},
   "source": [
    "### Q3. Search the data with a text query"
   ]
  },
  {
   "cell_type": "code",
   "execution_count": null,
   "id": "de45f469",
   "metadata": {},
   "outputs": [],
   "source": [
    "res = # ADD CODE HERE\n",
    "\n",
    "print(json.dumps(res,indent=2))"
   ]
  },
  {
   "cell_type": "markdown",
   "id": "6ea8a77c",
   "metadata": {},
   "source": [
    "**Visualize some of the returned images:**"
   ]
  },
  {
   "cell_type": "code",
   "execution_count": null,
   "id": "6dac6ed3",
   "metadata": {},
   "outputs": [],
   "source": [
    "# ADD CODE HERE"
   ]
  },
  {
   "cell_type": "code",
   "execution_count": null,
   "id": "e1fced12",
   "metadata": {},
   "outputs": [],
   "source": [
    "# ADD CODE HERE"
   ]
  },
  {
   "cell_type": "code",
   "execution_count": null,
   "id": "2606608b",
   "metadata": {},
   "outputs": [],
   "source": [
    "# ADD CODE HERE"
   ]
  },
  {
   "cell_type": "markdown",
   "id": "a0b0d3c4",
   "metadata": {},
   "source": [
    "### Feel free to perform more searches and see if you can explain why specific text search queries return images! \n",
    "\n",
    "#### You've sucessfully used a vector database to build text-to-image search!"
   ]
  },
  {
   "cell_type": "markdown",
   "id": "4dba56a9",
   "metadata": {},
   "source": [
    "### Q4. Search the data with an image query.\n",
    "\n",
    "- **Here we will pass in images that are not in the vector database and search for the most similar images as determined by vector search** \n",
    "\n",
    "- **These images can be found in the `TestImages` folder. Feel free to provide your own images as search queries here aswell!**"
   ]
  },
  {
   "cell_type": "markdown",
   "id": "d616865b",
   "metadata": {},
   "source": [
    "#### First visualize the image you want to query the database with:"
   ]
  },
  {
   "cell_type": "code",
   "execution_count": null,
   "id": "f0b2e2a3",
   "metadata": {},
   "outputs": [],
   "source": [
    "IPython.display.Image(filename='TestImages/n03417042_28762.JPEG', width=300) "
   ]
  },
  {
   "cell_type": "markdown",
   "id": "e247cef6",
   "metadata": {},
   "source": [
    "#### Now let's write a query to search using this image:"
   ]
  },
  {
   "cell_type": "code",
   "execution_count": null,
   "id": "ac3a8fb8",
   "metadata": {},
   "outputs": [],
   "source": [
    "imres = # ADD CODE HERE\n",
    "\n",
    "print(json.dumps(imres,indent=2))"
   ]
  },
  {
   "cell_type": "markdown",
   "id": "ed284964",
   "metadata": {},
   "source": [
    "**Visualize the images most similar to the input image**"
   ]
  },
  {
   "cell_type": "code",
   "execution_count": null,
   "id": "7e0d3389",
   "metadata": {},
   "outputs": [],
   "source": [
    "# ADD CODE HERE"
   ]
  },
  {
   "cell_type": "code",
   "execution_count": null,
   "id": "3479fa99",
   "metadata": {},
   "outputs": [],
   "source": [
    "# ADD CODE HERE"
   ]
  },
  {
   "cell_type": "code",
   "execution_count": null,
   "id": "aa5f67d8",
   "metadata": {},
   "outputs": [],
   "source": [
    "# ADD CODE HERE"
   ]
  }
 ],
 "metadata": {
  "kernelspec": {
   "display_name": "Python 3 (ipykernel)",
   "language": "python",
   "name": "python3"
  },
  "language_info": {
   "codemirror_mode": {
    "name": "ipython",
    "version": 3
   },
   "file_extension": ".py",
   "mimetype": "text/x-python",
   "name": "python",
   "nbconvert_exporter": "python",
   "pygments_lexer": "ipython3",
   "version": "3.11.7"
  }
 },
 "nbformat": 4,
 "nbformat_minor": 5
}
